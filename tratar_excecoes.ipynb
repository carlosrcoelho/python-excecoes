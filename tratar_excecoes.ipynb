{
 "cells": [
  {
   "cell_type": "markdown",
   "metadata": {},
   "source": [
    "# Exceções\n",
    "    Exceções são eventos que ocorrem durante a execução de um programa que interrompem o fluxo normal de execução. Quando uma exceção ocorre, o interpretador Python procura por tratadores de exceção adequados para lidar com a situação. Se nenhum tratador é encontrado, o programa termina com uma mensagem de erro."
   ]
  },
  {
   "cell_type": "code",
   "execution_count": 2,
   "metadata": {},
   "outputs": [],
   "source": [
    "notas = {'João': [8.0, 9.0, 10.0], 'Maria': [9.0, 7.0, 6.0], 'José': [3.4, 7.0, 8.0],'Cláudia': [5.5, 6.6, 8.0], 'Ana': [6.0, 10.0, 9.5], 'Joaquim': [5.5, 7.5, 9.0], 'Júlia': [6.0, 8.0, 7.0], 'Pedro': [3.0, 4.0, 6.0]}"
   ]
  },
  {
   "cell_type": "code",
   "execution_count": 5,
   "metadata": {},
   "outputs": [
    {
     "data": {
      "text/plain": [
       "[9.0, 7.0, 6.0]"
      ]
     },
     "execution_count": 5,
     "metadata": {},
     "output_type": "execute_result"
    }
   ],
   "source": [
    "nome = input('Digite o nome do aluno: ')\n",
    "\n",
    "resultado = notas[nome]\n",
    "resultado "
   ]
  },
  {
   "cell_type": "code",
   "execution_count": 7,
   "metadata": {},
   "outputs": [
    {
     "name": "stdout",
     "output_type": "stream",
     "text": [
      "<class 'KeyError'> Erro: 'Carlos'\n"
     ]
    }
   ],
   "source": [
    "try:\n",
    "    nome = input('Digite o nome do aluno: ')\n",
    "    resultado = notas[nome]\n",
    "except Exception as e:\n",
    "    print(type(e), f'Erro: {e}')"
   ]
  },
  {
   "cell_type": "code",
   "execution_count": 8,
   "metadata": {},
   "outputs": [
    {
     "name": "stdout",
     "output_type": "stream",
     "text": [
      "Aluno não matriculado\n"
     ]
    }
   ],
   "source": [
    "try:\n",
    "    nome = input('Digite o nome do aluno: ')\n",
    "    resultado = notas[nome]\n",
    "except KeyError:\n",
    "    print('Aluno não matriculado')"
   ]
  },
  {
   "cell_type": "code",
   "execution_count": 9,
   "metadata": {},
   "outputs": [
    {
     "name": "stdout",
     "output_type": "stream",
     "text": [
      "Aluno não matriculado\n"
     ]
    }
   ],
   "source": [
    "try:\n",
    "    nome = input('Digite o nome do aluno: ')\n",
    "    resultado = notas[nome]\n",
    "except KeyError:\n",
    "    print('Aluno não matriculado')\n",
    "else:\n",
    "    print(f'Notas do aluno {nome}: {resultado}')"
   ]
  },
  {
   "cell_type": "code",
   "execution_count": 10,
   "metadata": {},
   "outputs": [
    {
     "name": "stdout",
     "output_type": "stream",
     "text": [
      "Notas do(a) aluno Maria: [9.0, 7.0, 6.0]\n",
      "Fim da execução\n"
     ]
    }
   ],
   "source": [
    "try:\n",
    "    nome = input('Digite o nome do aluno: ')\n",
    "    resultado = notas[nome]\n",
    "except KeyError:\n",
    "    print('Aluno não matriculado')\n",
    "else:\n",
    "    print(f'Notas do(a) aluno {nome}: {resultado}')\n",
    "finally:\n",
    "    print('Fim da execução')"
   ]
  },
  {
   "cell_type": "code",
   "execution_count": null,
   "metadata": {},
   "outputs": [],
   "source": []
  },
  {
   "cell_type": "markdown",
   "metadata": {},
   "source": [
    "## Raise"
   ]
  },
  {
   "cell_type": "code",
   "execution_count": 11,
   "metadata": {},
   "outputs": [],
   "source": [
    "def calcular_media(lista: list):\n",
    "    calculo = sum(lista) / len(lista)\n",
    "    if len(lista) > 4:\n",
    "        raise ValueError('Lista não pode ter mais de 4 elementos')\n",
    "    return calculo"
   ]
  },
  {
   "cell_type": "code",
   "execution_count": 12,
   "metadata": {},
   "outputs": [
    {
     "data": {
      "text/plain": [
       "8.5"
      ]
     },
     "execution_count": 12,
     "metadata": {},
     "output_type": "execute_result"
    }
   ],
   "source": [
    "notas = [10, 8, 9, 7]\n",
    "\n",
    "calculo = calcular_media(notas)\n",
    "calculo"
   ]
  },
  {
   "cell_type": "code",
   "execution_count": 13,
   "metadata": {},
   "outputs": [
    {
     "ename": "ValueError",
     "evalue": "Lista não pode ter mais de 4 elementos",
     "output_type": "error",
     "traceback": [
      "\u001b[0;31m---------------------------------------------------------------------------\u001b[0m",
      "\u001b[0;31mValueError\u001b[0m                                Traceback (most recent call last)",
      "\u001b[1;32m/home/carlos/projects/alura/data_science/03-funcoes_estruturas_de_dados_excecoes/tratar_excecoes.ipynb Cell 11\u001b[0m line \u001b[0;36m2\n\u001b[1;32m      <a href='vscode-notebook-cell:/home/carlos/projects/alura/data_science/03-funcoes_estruturas_de_dados_excecoes/tratar_excecoes.ipynb#X13sZmlsZQ%3D%3D?line=0'>1</a>\u001b[0m notas \u001b[39m=\u001b[39m [\u001b[39m10\u001b[39m, \u001b[39m8\u001b[39m, \u001b[39m9\u001b[39m, \u001b[39m7\u001b[39m, \u001b[39m6\u001b[39m, \u001b[39m5\u001b[39m, \u001b[39m4\u001b[39m, \u001b[39m3\u001b[39m, \u001b[39m2\u001b[39m, \u001b[39m1\u001b[39m]\n\u001b[0;32m----> <a href='vscode-notebook-cell:/home/carlos/projects/alura/data_science/03-funcoes_estruturas_de_dados_excecoes/tratar_excecoes.ipynb#X13sZmlsZQ%3D%3D?line=1'>2</a>\u001b[0m calculo \u001b[39m=\u001b[39m calcular_media(notas)\n\u001b[1;32m      <a href='vscode-notebook-cell:/home/carlos/projects/alura/data_science/03-funcoes_estruturas_de_dados_excecoes/tratar_excecoes.ipynb#X13sZmlsZQ%3D%3D?line=2'>3</a>\u001b[0m calculo\n",
      "\u001b[1;32m/home/carlos/projects/alura/data_science/03-funcoes_estruturas_de_dados_excecoes/tratar_excecoes.ipynb Cell 11\u001b[0m line \u001b[0;36m4\n\u001b[1;32m      <a href='vscode-notebook-cell:/home/carlos/projects/alura/data_science/03-funcoes_estruturas_de_dados_excecoes/tratar_excecoes.ipynb#X13sZmlsZQ%3D%3D?line=1'>2</a>\u001b[0m calculo \u001b[39m=\u001b[39m \u001b[39msum\u001b[39m(lista) \u001b[39m/\u001b[39m \u001b[39mlen\u001b[39m(lista)\n\u001b[1;32m      <a href='vscode-notebook-cell:/home/carlos/projects/alura/data_science/03-funcoes_estruturas_de_dados_excecoes/tratar_excecoes.ipynb#X13sZmlsZQ%3D%3D?line=2'>3</a>\u001b[0m \u001b[39mif\u001b[39;00m \u001b[39mlen\u001b[39m(lista) \u001b[39m>\u001b[39m \u001b[39m4\u001b[39m:\n\u001b[0;32m----> <a href='vscode-notebook-cell:/home/carlos/projects/alura/data_science/03-funcoes_estruturas_de_dados_excecoes/tratar_excecoes.ipynb#X13sZmlsZQ%3D%3D?line=3'>4</a>\u001b[0m     \u001b[39mraise\u001b[39;00m \u001b[39mValueError\u001b[39;00m(\u001b[39m'\u001b[39m\u001b[39mLista não pode ter mais de 4 elementos\u001b[39m\u001b[39m'\u001b[39m)\n\u001b[1;32m      <a href='vscode-notebook-cell:/home/carlos/projects/alura/data_science/03-funcoes_estruturas_de_dados_excecoes/tratar_excecoes.ipynb#X13sZmlsZQ%3D%3D?line=4'>5</a>\u001b[0m \u001b[39mreturn\u001b[39;00m calculo\n",
      "\u001b[0;31mValueError\u001b[0m: Lista não pode ter mais de 4 elementos"
     ]
    }
   ],
   "source": [
    "notas = [10, 8, 9, 7, 6, 5, 4, 3, 2, 1]\n",
    "calculo = calcular_media(notas)\n",
    "calculo"
   ]
  },
  {
   "cell_type": "code",
   "execution_count": 14,
   "metadata": {},
   "outputs": [
    {
     "name": "stdout",
     "output_type": "stream",
     "text": [
      "Não foi possível calcular a média do(a) estudante. Só são aceitos valores numéricos!\n",
      "Fim da execução\n"
     ]
    }
   ],
   "source": [
    "try:\n",
    "    notas = [10, 8, 9, 7, \"10\"]\n",
    "    calculo = calcular_media(notas)\n",
    "except TypeError:\n",
    "    print(\"Não foi possível calcular a média do(a) estudante. Só são aceitos valores numéricos!\") \n",
    "except ValueError as e:\n",
    "    print(f'Erro: {e}')\n",
    "else:\n",
    "    print(f'A média do(a) estudante é: {calculo}')\n",
    "finally:\n",
    "    print('Fim da execução')\n"
   ]
  },
  {
   "cell_type": "code",
   "execution_count": null,
   "metadata": {},
   "outputs": [],
   "source": []
  },
  {
   "cell_type": "markdown",
   "metadata": {},
   "source": [
    "## Exercícios - Lidando com exceções"
   ]
  },
  {
   "cell_type": "code",
   "execution_count": 17,
   "metadata": {},
   "outputs": [
    {
     "name": "stdout",
     "output_type": "stream",
     "text": [
      "Digite apenas números\n",
      "Fim da execução\n"
     ]
    }
   ],
   "source": [
    "# 1. Faça um programa que solicite à pessoa usuária digitar dois números float e calcular a divisão entre esses números. O código deve conter um tratamento de erro, indicando o tipo de erro que foi gerado caso a divisão não seja possível de realizar.\n",
    "\n",
    "#Teste o programa com o segundo valor numérico do input igual a 0. Também teste utilizando caracteres textuais no input para checar os tipos de erro que ocorrem.\n",
    "\n",
    "try:\n",
    "    num1 = float(input('Digite o primeiro número: '))\n",
    "    num2 = float(input('Digite o segundo número: '))\n",
    "    divisao = num1 / num2\n",
    "except ZeroDivisionError:\n",
    "    print('Não é possível dividir por zero')\n",
    "except ValueError:\n",
    "    print('Digite apenas números')\n",
    "else:\n",
    "    print(f'O resultado da divisão é: {divisao}')\n",
    "finally:\n",
    "    print('Fim da execução')"
   ]
  },
  {
   "cell_type": "code",
   "execution_count": 25,
   "metadata": {},
   "outputs": [
    {
     "name": "stdout",
     "output_type": "stream",
     "text": [
      "Nome Carlos não encontrado\n",
      "Fim da execução\n"
     ]
    }
   ],
   "source": [
    "# 2. Faça um programa que solicite à pessoa usuária digitar um texto que será uma chave a ser pesquisada no seguinte dicionário: idades = {'Júlia': 16, 'Carol': 23, 'Alberto': 19, 'Roberta': 17}, armazenando o resultado do valor em uma variável. O código deve conter um tratamento de erro KeyError, imprimindo a informação 'Nome não encontrado', caso ocorra o erro; e imprimir o valor caso não ocorra nenhum.\n",
    "\n",
    "idades = {'Júlia': 16, 'Carol': 23, 'Alberto': 19, 'Roberta': 17}\n",
    "\n",
    "try:\n",
    "    nome = input('Digite o nome: ')\n",
    "    resultado = idades[nome]\n",
    "except KeyError:\n",
    "    print(f'Nome {nome} não encontrado')\n",
    "else:\n",
    "    print(f'Idade {nome}: {resultado} anos')\n",
    "finally:\n",
    "    print('Fim da execução')"
   ]
  },
  {
   "cell_type": "code",
   "execution_count": 29,
   "metadata": {},
   "outputs": [],
   "source": [
    "# 3. Crie uma função que recebe uma lista como parâmetro e converta todos os valores da lista para float. A função deve conter um tratamento de erro indicando o tipo de erro gerado e retornar a lista caso não tenha ocorrido nenhum erro. Por fim, deve ter a cláusula finally para imprimir o texto: 'Fim da execução da função'.\n",
    "\n",
    "def converter_lista(lista: list):\n",
    "    try:\n",
    "        lista_convertida = [float(item) for item in lista]\n",
    "    except ValueError:\n",
    "        print('Não foi possível converter a lista')\n",
    "    else:\n",
    "        print(f'Lista convertida: {lista_convertida}')\n",
    "    finally:\n",
    "        print('Fim da execução da função')"
   ]
  },
  {
   "cell_type": "code",
   "execution_count": 30,
   "metadata": {},
   "outputs": [
    {
     "name": "stdout",
     "output_type": "stream",
     "text": [
      "Lista convertida: [1.0, 2.0, 3.0, 4.0, 5.0]\n",
      "Fim da execução da função\n"
     ]
    }
   ],
   "source": [
    "converter_lista([1, 2, 3, 4, 5])"
   ]
  },
  {
   "cell_type": "code",
   "execution_count": 45,
   "metadata": {},
   "outputs": [],
   "source": [
    "# 4. Crie uma função que recebe duas listas como parâmetros e agrupe os elementos um a um das listas, formando uma lista de tuplas de 3 elementos, no qual o primeiro e segundo elemento da tupla são os valores na posição i das listas e o terceiro elemento é a soma dos valores na posição i das listas.\n",
    "\n",
    "def agrupar_listas(lista1, lista2):\n",
    "    try:\n",
    "        if len(lista1) == len(lista2):\n",
    "            dados = [(lista1[i], lista2[i], lista1[i]+lista2[i]) for i in range(len(lista1))]\n",
    "        else:\n",
    "            raise IndexError('A quantidade de elementos em cada lista é diferente.')\n",
    "    except Exception as e:\n",
    "        print(type(e), f'Erro: {e}')\n",
    "    else:\n",
    "        return dados  "
   ]
  },
  {
   "cell_type": "code",
   "execution_count": 50,
   "metadata": {},
   "outputs": [
    {
     "data": {
      "text/plain": [
       "[(4, -4, 0), (6, 6, 12), (7, 8, 15), (9, 7, 16), (10, 9, 19)]"
      ]
     },
     "execution_count": 50,
     "metadata": {},
     "output_type": "execute_result"
    }
   ],
   "source": [
    "lista1 = [4,6,7,9,10]\n",
    "lista2 = [-4,6,8,7,9]\n",
    "\n",
    "agrupar_listas(lista1, lista2)"
   ]
  },
  {
   "cell_type": "code",
   "execution_count": 59,
   "metadata": {},
   "outputs": [],
   "source": [
    "# 5. Como desafio, você recebeu a tarefa de desenvolver um código que contabiliza as pontuações de estudantes de uma instituição de ensino de acordo com suas respostas num teste. Este código deve ser testado para um exemplo de 3 estudantes com uma lista de listas em que cada lista possui as respostas de 5 questões objetivas de cada estudante. Cada questão vale um ponto e as alternativas possíveis são A, B, C ou D.\n",
    "\n",
    "# Caso alguma alternativa em um dos testes não esteja entre as alternativas possíveis, você deve lançar um ValueError com a mensagem \"A alternativa [alternativa] não é uma opção de alternativa válida\". O cálculo das 3 notas só será realizado mediante as entradas com as alternativas A, B, C ou D em todos os testes. Se não for lançada a exceção, será exibida uma lista com as notas em cada teste.\n",
    "\n",
    "gabarito = ['D', 'A', 'B', 'C', 'A']\n",
    "\n",
    "\n",
    "# Criando a função que recebe a lista de listas com as notas dos estudantes\n",
    "def corretor(testes: list):\n",
    "  pontuacoes = [] # criando a lista que receberá as pontuações caso a exceção não seja lançada\n",
    "  try:\n",
    "    for teste in testes:\n",
    "      nota = 0 # variável que acumula a nota de cada estudante\n",
    "      for i in range(len(teste)):\n",
    "        if teste[i] not in ['A', 'B', 'C', 'D']: # Verificamos se temos uma alternativa valida\n",
    "          raise ValueError(f'A alternativa {teste[i]} não é uma opção de alternativa válida')\n",
    "        elif teste[i] == gabarito[i]: # Verificamos se as respostas são iguais e adicionamos à nota\n",
    "          nota += 1\n",
    "      pontuacoes.append(nota) # adicionamos a nota do(a) estudante na lista de pontuações\n",
    "  except Exception as e:\n",
    "    print(e)\n",
    "  else:\n",
    "    return pontuacoes # retornando a lista de pontuações se não lançarmos a exceção\n"
   ]
  },
  {
   "cell_type": "code",
   "execution_count": 60,
   "metadata": {},
   "outputs": [
    {
     "name": "stdout",
     "output_type": "stream",
     "text": [
      "A alternativa E não é uma opção de alternativa válida\n"
     ]
    }
   ],
   "source": [
    "testes_sem_ex = [['D', 'A', 'B', 'C', 'A'], ['C', 'A', 'A', 'C', 'A'], ['D', 'B', 'A', 'C', 'A']]\n",
    "testes_com_ex = [['D', 'A', 'B', 'C', 'A'], ['C', 'A', 'A', 'E', 'A'], ['D', 'B', 'A', 'C', 'A']]\n",
    "\n",
    "\n",
    "corretor(testes_com_ex)"
   ]
  },
  {
   "cell_type": "code",
   "execution_count": 26,
   "metadata": {},
   "outputs": [],
   "source": [
    "# 6. Você está trabalhando com processamento de linguagem natural (NLP) e, dessa vez, sua líder requisitou que você criasse um trecho de código que recebe uma lista com as palavras separadas de uma frase gerada pelo ChatGPT.\n",
    "\n",
    "# Você precisa criar uma função que avalia cada palavra desse texto e verificar se o tratamento para retirar os símbolos de pontuação (',' '.', '!' e '?') foi realizado. Caso contrário, será lançada uma exceção do tipo ValueError apontando o 1º caso em que foi detectado o uso de uma pontuação por meio da frase \"O texto apresenta pontuações na palavra \"[palavra]\".\". Essa demanda é voltada para a análise do padrão de frases geradas pela inteligência artificial.\n",
    "\n",
    "# criando a função que recebe a lista de palavras\n",
    "\n",
    "def avalia_texto(texto: list):\n",
    "    for palavra in texto: # for para iterar por cada palavra\n",
    "        if (',' or '.' or '!' or'?') in palavra: # testando se a palavra possui alguma pontuação\n",
    "            raise ValueError(f'O texto apresenta pontuações na palavra \"{palavra}\".')\n",
    "    return \"Texto já tratado!\" # retornando a verificação se não lançada a exceção "
   ]
  },
  {
   "cell_type": "code",
   "execution_count": 27,
   "metadata": {},
   "outputs": [
    {
     "data": {
      "text/plain": [
       "'Texto já tratado!'"
      ]
     },
     "execution_count": 27,
     "metadata": {},
     "output_type": "execute_result"
    }
   ],
   "source": [
    "lista_tratada = ['Python', 'é', 'uma', 'linguagem', 'de', 'programação', 'poderosa', 'versátil',\n",
    "                  'e', 'fácil', 'de', 'aprender', 'utilizada', 'em', 'diversos', 'campos', 'desde',\n",
    "                  'análise', 'de', 'dados', 'até', 'inteligência', 'artificial']\n",
    "\n",
    "avalia_texto(lista_tratada)"
   ]
  },
  {
   "cell_type": "code",
   "execution_count": 28,
   "metadata": {},
   "outputs": [
    {
     "name": "stdout",
     "output_type": "stream",
     "text": [
      "O texto apresenta pontuações na palavra \"poderosa,\".\n"
     ]
    }
   ],
   "source": [
    "lista_nao_tratada = ['Python', 'é', 'uma', 'linguagem', 'de', 'programação', 'poderosa,', 'versátil',\n",
    "                  'e', 'fácil,', 'de', 'aprender', 'utilizada', 'em', 'diversos', 'campos,', 'desde',\n",
    "                  'análise', 'de', 'dados', 'até', 'inteligência', 'artificial!']\n",
    "\n",
    "\n",
    "try:\n",
    "    avalia_texto(lista_nao_tratada)\n",
    "except ValueError as e:\n",
    "    print(e)\n",
    "else:\n",
    "    print(avalia_texto)"
   ]
  },
  {
   "cell_type": "code",
   "execution_count": 29,
   "metadata": {},
   "outputs": [],
   "source": [
    "# 7. Você foi contratado(a) como uma pessoa cientista de dados para auxiliar um laboratório que faz experimentos sobre o comportamento de uma cultura de fungos. O laboratório precisa avaliar constantemente a razão (divisão) entre os dados de pressão e temperatura do ambiente controlado recolhidos durante a experimentação para definir a melhor condição para os testes.\n",
    "\n",
    "# Para cumprir com a demanda, você precisa criar uma função divide_colunas que recebe os dados das colunas de pressão e temperatura (que vem no formato de listas) e gerar uma nova coluna com o resultado da divisão. Os parâmetros da função são as duas listas e você deve tratar dentro dela ao menos 2 tipos de exceções:\n",
    "\n",
    "# Verificar se as listas têm o mesmo tamanho (ValueError)\n",
    "# Verificar se existe alguma divisão por zero (ZeroDivisionError)\n",
    "# Para testar a função, vamos realizar a divisão entre duas listas de dados coletados no experimento, com os valores de pressão e temperatura do ambiente controlado.\n",
    "\n",
    "def experimentos(pressao: list, temperatura: list):\n",
    "    try:\n",
    "        if len(pressao) == len(temperatura):\n",
    "            resultado = [pressao[i] / temperatura[i] for i in range(len(pressao))]\n",
    "        else:\n",
    "            raise ValueError('As listas não possuem o mesmo tamanho')\n",
    "    except ZeroDivisionError:\n",
    "        print('Não é possível dividir por zero')\n",
    "    except ValueError as e:\n",
    "        print(type(e), f'Erro: {e}')\n",
    "    else:\n",
    "        return resultado"
   ]
  },
  {
   "cell_type": "code",
   "execution_count": 33,
   "metadata": {},
   "outputs": [
    {
     "data": {
      "text/plain": [
       "[5.0, 4.8, 4.666666666666667, 4.571428571428571, 4.5]"
      ]
     },
     "execution_count": 33,
     "metadata": {},
     "output_type": "execute_result"
    }
   ],
   "source": [
    "pressoes = [100, 120, 140, 160, 180]\n",
    "temperaturas = [20, 25, 30, 35, 40]\n",
    "\n",
    "experimentos(pressoes, temperaturas)"
   ]
  },
  {
   "cell_type": "code",
   "execution_count": 31,
   "metadata": {},
   "outputs": [
    {
     "name": "stdout",
     "output_type": "stream",
     "text": [
      "Não é possível dividir por zero\n"
     ]
    }
   ],
   "source": [
    "pressoes = [60, 120, 140, 160, 180]\n",
    "temperaturas = [0, 25, 30, 35, 40]\n",
    "\n",
    "experimentos(pressoes, temperaturas)"
   ]
  }
 ],
 "metadata": {
  "kernelspec": {
   "display_name": "Python 3",
   "language": "python",
   "name": "python3"
  },
  "language_info": {
   "codemirror_mode": {
    "name": "ipython",
    "version": 3
   },
   "file_extension": ".py",
   "mimetype": "text/x-python",
   "name": "python",
   "nbconvert_exporter": "python",
   "pygments_lexer": "ipython3",
   "version": "3.10.12"
  }
 },
 "nbformat": 4,
 "nbformat_minor": 2
}
